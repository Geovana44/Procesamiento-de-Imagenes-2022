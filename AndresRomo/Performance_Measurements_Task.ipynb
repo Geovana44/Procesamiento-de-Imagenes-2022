{
 "cells": [
  {
   "cell_type": "markdown",
   "metadata": {},
   "source": [
    "<h1> Regresión de Huber</h1>\n",
    "La pérdida de Huber es una función de pérdida robusta para problemas de regresión definida como:\n",
    "\n",
    "$$\n",
    "\\zeta \\left( y - \\hat{y} \\right)^{2}  =\n",
    "\n",
    "\\begin{cases}\n",
    "\n",
    "\\left( y - \\hat{y} \\right)^{2} ... \\left| y - \\hat{y}\\right| \\le \\alpha \n",
    "\\\\\n",
    "\\left| y - \\hat{y} \\right| ... \\left| y - \\hat{y} \\right| \\gt  \\alpha \n",
    "\\end{cases}\n",
    "$$\n",
    "\n",
    "donde y es la variable objetivo, ŷ son las predicciones correspondientes y α ∈ ℝ⁺ es un hiperparámetro. Resulta tentador considerar esta pérdida como la función de log-verosimilitud de una distribución de error subyacente de cola pesada. De hecho, para los errores absolutos menores que α la distribución correspondiente se asemeja a la distribución normal, fuera de esta región coincide con la distribución de Laplace de cola más pesada. Esta es precisamente la razón por la que esta pérdida es robusta frente a los valores atípicos."
   ]
  },
  {
   "cell_type": "markdown",
   "metadata": {},
   "source": [
    "<h1> Area bajo de la curva ROC</h1>\n",
    "\n",
    "Una curva ROC (receiver operating characteristic curve) es un gráfico que muestra el rendimiento de un modelo de clasificación en todos los umbrales de clasificación. Esta curva traza dos parámetros:\n",
    "\n",
    "    - Tasa de verdaderos positivos\n",
    "    - Tasa de falsos positivos\n",
    "\n",
    "La tasa de verdaderos positivos (TPR) es un sinónimo de recuperación y, por lo tanto, se define:\n",
    "$$ TPR = \\frac{TP}{TP+FN} $$\n",
    "\n",
    "La tasa de falsos positivos (FPR) se define:\n",
    "$$ FPR = \\frac{FP}{FP+TN} $$\n",
    "\n",
    "Una curva ROC representa la TPR frente a la FPR con diferentes umbrales de clasificación. Al reducir el umbral de clasificación, se clasifican más elementos como positivos, lo que aumenta tanto los falsos positivos como los verdaderos positivos. La siguiente figura muestra una curva ROC típica.\n",
    "<img src=\"ROC curve.jpg\">\n",
    "\n",
    "Por su parte, el AUC(Area bajo la curva ROC) mide toda el área bidimensional bajo la curva ROC completa (cálculo integral) desde (0,0) hasta (1,1).\n",
    "<img src=\"AUC.jpg\">\n",
    "\n",
    "El AUC proporciona una medida agregada del rendimiento en todos los umbrales de clasificación posibles. Una forma de interpretar el AUC es como la probabilidad de que el modelo clasifique mejor un ejemplo positivo aleatorio que un ejemplo negativo aleatorio."
   ]
  },
  {
   "cell_type": "markdown",
   "metadata": {},
   "source": [
    "<h1>Generalizacion de las medidas de desempeño para tareas multiclase y multisalida </h1>\n",
    "\n",
    "Algunas métricas se definen esencialmente para tareas de clasificación binaria (por ejemplo, f1_score, roc_auc_score). En estos casos, por defecto sólo se evalúa la etiqueta positiva, asumiendo por defecto que la clase positiva está etiquetada como 1 (aunque esto puede ser configurable a través del parámetro pos_label).\n",
    "\n",
    "Al extender una métrica binaria a problemas multiclase o multietiqueta, los datos se tratan como una colección de problemas binarios, uno para cada clase. Existen entonces varias formas de promediar los cálculos de la métrica binaria en el conjunto de clases, cada una de las cuales puede ser útil en algún escenario. Cuando esté disponible, deberá seleccionar entre ellas utilizando el parámetro de promedio.\n",
    "\n",
    "    \"macro\" simplemente calcula la media de las métricas binarias, dando el mismo peso a cada clase. En los problemas en los que las clases poco frecuentes son, sin embargo, importantes, el macro-promedio puede ser un medio para destacar su rendimiento. Por otro lado, la suposición de que todas las clases son igual de importantes es a menudo falsa, de modo que el macro-promedio enfatizará en exceso el rendimiento típicamente bajo de una clase poco frecuente.\n",
    "\n",
    "    \"ponderado\" tiene en cuenta el desequilibrio de clases calculando la media de las métricas binarias en las que la puntuación de cada clase se pondera en función de su presencia en la muestra de datos reales.\n",
    "\n",
    "    \"micro\" da a cada par muestra-clase una contribución igual a la métrica global (excepto como resultado de la ponderación de la muestra). En lugar de sumar la métrica por clase, se suman los dividendos y divisores que componen las métricas por clase para calcular un cociente global. El micro-promedio puede ser preferible en entornos multietiqueta, incluida la clasificación multiclase en la que se debe ignorar una clase mayoritaria.\n",
    "\n",
    "    \"Muestras\" se aplica sólo a los problemas multietiqueta. No calcula una medida por clase, sino que calcula la métrica sobre las clases verdaderas y predichas para cada muestra en los datos de evaluación, y devuelve su media (ponderada por la muestra).\n",
    "\n",
    "    Si se selecciona average=None, se obtendrá una matriz con la puntuación de cada clase.\n",
    "\n",
    "Mientras que los datos multiclase se proporcionan a la métrica, al igual que los objetivos binarios, como una matriz de etiquetas de clase, los datos multietiqueta se especifican como una matriz de indicadores, en la que la celda [i, j] tiene valor 1 si la muestra i tiene la etiqueta j y valor 0 en caso contrario.\n"
   ]
  },
  {
   "cell_type": "code",
   "execution_count": 2,
   "metadata": {},
   "outputs": [],
   "source": [
    "y_true = [3, -0.5, 2, 7]\n",
    "y_pred = [2.5, 0.1, 2, 8]"
   ]
  },
  {
   "cell_type": "code",
   "execution_count": 3,
   "metadata": {},
   "outputs": [
    {
     "name": "stderr",
     "output_type": "stream",
     "text": [
      "2022-06-06 23:32:06.109714: W tensorflow/stream_executor/platform/default/dso_loader.cc:64] Could not load dynamic library 'libcudart.so.11.0'; dlerror: libcudart.so.11.0: cannot open shared object file: No such file or directory\n",
      "2022-06-06 23:32:06.110145: I tensorflow/stream_executor/cuda/cudart_stub.cc:29] Ignore above cudart dlerror if you do not have a GPU set up on your machine.\n"
     ]
    }
   ],
   "source": [
    "import sklearn.metrics\n",
    "import tensorflow as tf\n",
    "from sklearn.svm import SVC\n",
    "import numpy as np\n",
    "import matplotlib.pyplot as plt\n",
    "\n",
    "class performance_metrics:\n",
    "    def __init__(self, y_true, y_pred):\n",
    "        self.y_true = np.array(y_true)\n",
    "        self.y_pred = np.array(y_pred)\n",
    "        self.int_y_true = self.y_true.astype(int)\n",
    "        self.int_y_pred = self.y_pred.astype(int)\n",
    "    def mean_square_error(self):\n",
    "        return sklearn.metrics.mean_squared_error(self.y_true, self.y_pred)\n",
    "    def mean_abs_error(self):\n",
    "        return sklearn.metrics.mean_absolute_error(self.y_true, self.y_pred)\n",
    "    def accuracy(self):\n",
    "        return sklearn.metrics.accuracy_score(self.int_y_true, self.int_y_pred)\n",
    "    def cnfsn_matrix(self):\n",
    "        return sklearn.metrics.confusion_matrix(self.int_y_true, self.int_y_pred)\n",
    "    def precision(self):\n",
    "        return sklearn.metrics.precision_score(self.int_y_true, self.int_y_pred, average=None)\n",
    "    def exhaustivite(self):\n",
    "        return sklearn.metrics.recall_score(self.int_y_true, self.int_y_pred,average=None)\n",
    "    def f1_sc(self):\n",
    "        return sklearn.metrics.f1_score(self.int_y_true, self.int_y_pred, average=None)\n",
    "    def f1_ponderado(self):\n",
    "        return sklearn.metrics.precision_recall_fscore_support(self.int_y_true, self.int_y_pred)\n",
    "    def Huber(self):\n",
    "        h = tf.keras.losses.Huber()\n",
    "        return h(self.int_y_true, self.int_y_pred).numpy()\n",
    "    def ROC(self):\n",
    "        return sklearn.metrics.roc_curve(self.int_y_true, self.int_y_pred, pos_label = 2)\n",
    "    def plot_confusion_mtrx(self):\n",
    "        return sklearn.metrics.ConfusionMatrixDisplay.from_predictions(self.int_y_true, self.int_y_pred)\n",
    "    def plot_ROC(self):\n",
    "        return sklearn.metrics.RocCurveDisplay.from_predictions(self.int_y_true, self.int_y_pred, pos_label = 2)\n",
    "\n",
    "\n",
    "\n",
    "        "
   ]
  },
  {
   "cell_type": "code",
   "execution_count": 4,
   "metadata": {},
   "outputs": [
    {
     "data": {
      "text/plain": [
       "0.40249999999999997"
      ]
     },
     "execution_count": 4,
     "metadata": {},
     "output_type": "execute_result"
    }
   ],
   "source": [
    "a = performance_metrics(y_true,y_pred)\n",
    "a.mean_square_error()"
   ]
  },
  {
   "cell_type": "code",
   "execution_count": 5,
   "metadata": {},
   "outputs": [
    {
     "name": "stderr",
     "output_type": "stream",
     "text": [
      "/home/anferogue/.local/lib/python3.8/site-packages/sklearn/metrics/_classification.py:1327: UndefinedMetricWarning: Precision is ill-defined and being set to 0.0 in labels with no predicted samples. Use `zero_division` parameter to control this behavior.\n",
      "  _warn_prf(average, modifier, msg_start, len(result))\n",
      "/home/anferogue/.local/lib/python3.8/site-packages/sklearn/metrics/_classification.py:1327: UndefinedMetricWarning: Recall is ill-defined and being set to 0.0 in labels with no true samples. Use `zero_division` parameter to control this behavior.\n",
      "  _warn_prf(average, modifier, msg_start, len(result))\n",
      "/home/anferogue/.local/lib/python3.8/site-packages/sklearn/metrics/_classification.py:1327: UndefinedMetricWarning: Precision and F-score are ill-defined and being set to 0.0 in labels with no predicted samples. Use `zero_division` parameter to control this behavior.\n",
      "  _warn_prf(average, modifier, msg_start, len(result))\n",
      "/home/anferogue/.local/lib/python3.8/site-packages/sklearn/metrics/_classification.py:1327: UndefinedMetricWarning: Recall and F-score are ill-defined and being set to 0.0 in labels with no true samples. Use `zero_division` parameter to control this behavior.\n",
      "  _warn_prf(average, modifier, msg_start, len(result))\n"
     ]
    },
    {
     "data": {
      "text/plain": [
       "(array([1. , 0.5, 0. , 0. , 0. ]),\n",
       " array([1., 1., 0., 0., 0.]),\n",
       " array([1.        , 0.66666667, 0.        , 0.        , 0.        ]),\n",
       " array([1, 1, 1, 1, 0]))"
      ]
     },
     "execution_count": 5,
     "metadata": {},
     "output_type": "execute_result"
    }
   ],
   "source": [
    "a.mean_abs_error()\n",
    "a.accuracy()\n",
    "a.cnfsn_matrix()\n",
    "a.precision()\n",
    "a.exhaustivite()\n",
    "a.f1_sc()\n",
    "a.f1_ponderado()\n"
   ]
  },
  {
   "cell_type": "code",
   "execution_count": 6,
   "metadata": {},
   "outputs": [
    {
     "name": "stderr",
     "output_type": "stream",
     "text": [
      "2022-06-06 23:32:16.086739: E tensorflow/stream_executor/cuda/cuda_driver.cc:271] failed call to cuInit: UNKNOWN ERROR (100)\n",
      "2022-06-06 23:32:16.087280: I tensorflow/stream_executor/cuda/cuda_diagnostics.cc:156] kernel driver does not appear to be running on this host (DESKTOP-L6LJPH0): /proc/driver/nvidia/version does not exist\n",
      "2022-06-06 23:32:16.090006: I tensorflow/core/platform/cpu_feature_guard.cc:193] This TensorFlow binary is optimized with oneAPI Deep Neural Network Library (oneDNN) to use the following CPU instructions in performance-critical operations:  AVX2 FMA\n",
      "To enable them in other operations, rebuild TensorFlow with the appropriate compiler flags.\n"
     ]
    },
    {
     "data": {
      "text/plain": [
       "(array([0.        , 0.33333333, 0.66666667, 1.        ]),\n",
       " array([0., 0., 1., 1.]),\n",
       " array([9, 8, 2, 0]))"
      ]
     },
     "execution_count": 6,
     "metadata": {},
     "output_type": "execute_result"
    }
   ],
   "source": [
    "a.Huber()\n",
    "a.ROC()"
   ]
  },
  {
   "cell_type": "code",
   "execution_count": 7,
   "metadata": {},
   "outputs": [
    {
     "data": {
      "text/plain": [
       "<sklearn.metrics._plot.confusion_matrix.ConfusionMatrixDisplay at 0x7f5b4da03820>"
      ]
     },
     "execution_count": 7,
     "metadata": {},
     "output_type": "execute_result"
    },
    {
     "data": {
      "image/png": "[encoded data removed]",
      "text/plain": [
       "<Figure size 432x288 with 2 Axes>"
      ]
     },
     "metadata": {
      "needs_background": "light"
     },
     "output_type": "display_data"
    }
   ],
   "source": [
    "a.plot_confusion_mtrx()"
   ]
  },
  {
   "cell_type": "code",
   "execution_count": 8,
   "metadata": {},
   "outputs": [
    {
     "data": {
      "text/plain": [
       "<sklearn.metrics._plot.roc_curve.RocCurveDisplay at 0x7f5b4c1050a0>"
      ]
     },
     "execution_count": 8,
     "metadata": {},
     "output_type": "execute_result"
    },
    {
     "data": {
      "image/png": "[encoded data removed]",
      "text/plain": [
       "<Figure size 432x288 with 1 Axes>"
      ]
     },
     "metadata": {
      "needs_background": "light"
     },
     "output_type": "display_data"
    }
   ],
   "source": [
    "a.plot_ROC()"
   ]
  },
  {
   "cell_type": "code",
   "execution_count": null,
   "metadata": {},
   "outputs": [],
   "source": []
  }
 ],
 "metadata": {
  "interpreter": {
   "hash": "916dbcbb3f70747c44a77c7bcd40155683ae19c65e1c03b4aa3499c5328201f1"
  },
  "kernelspec": {
   "display_name": "Python 3.8.10 64-bit",
   "language": "python",
   "name": "python3"
  },
  "language_info": {
   "codemirror_mode": {
    "name": "ipython",
    "version": 3
   },
   "file_extension": ".py",
   "mimetype": "text/x-python",
   "name": "python",
   "nbconvert_exporter": "python",
   "pygments_lexer": "ipython3",
   "version": "3.8.10"
  },
  "orig_nbformat": 4
 },
 "nbformat": 4,
 "nbformat_minor": 2
}
