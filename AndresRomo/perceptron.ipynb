{
 "cells": [
  {
   "cell_type": "code",
   "execution_count": 2,
   "metadata": {},
   "outputs": [],
   "source": [
    "import numpy as np\n",
    "\n",
    "class Perceptron:\n",
    "\n",
    "    def __init__(self):\n",
    "        self.weights = None\n",
    "        self.learning_rate = 0.1\n",
    "    def funcion_sigmoide(self, x: float) -> float:\n",
    "        \"\"\"\n",
    "        Funcion de activacion sigmoide\n",
    "        \"\"\"\n",
    "        return 1. / (1 + np.exp(-x))\n",
    "\n",
    "    def Paso_adelante(self, X: np.ndarray) -> float:\n",
    "        \"\"\"\n",
    "        Prediccion de un solo valor, en base a los pesos establecidos\n",
    "        \"\"\"\n",
    "        weighted_sum = np.dot(X, self.weights)\n",
    "        output = self.sigmoid_function(weighted_sum)\n",
    "\n",
    "        return output\n",
    "\n",
    "    def fit(self, X_train: np.ndarray, y_train: np.ndarray, n_epochs: int = 20):\n",
    "        \"\"\"\n",
    "        Training using Batch Gradient Descent.\n",
    "        Weights array is updated after each epoch\n",
    "        \"\"\"\n",
    "        self.weights = np.random.uniform(-1, 1, X_train.shape[1])\n",
    "        current_weights = self.weights.copy()\n",
    "        for epoch in range(n_epochs):\n",
    "            for x, y in zip(X_train, y_train):\n",
    "                y_predicted = self.forward_pass(x)\n",
    "                current_weights -= self.learn_rate * (y_predicted - y) * y_predicted * (1 - y_predicted) * x\n",
    "            self.weights = current_weights.copy()\n",
    "\n",
    "    def predict(self, X_test: np.ndarray) -> np.ndarray:\n",
    "        \"\"\"\n",
    "        Predict label for unseen data\n",
    "        \"\"\"\n",
    "        return np.array([self.forward_pass(x) for x in X_test])"
   ]
  },
  {
   "cell_type": "code",
   "execution_count": null,
   "metadata": {},
   "outputs": [],
   "source": []
  }
 ],
 "metadata": {
  "interpreter": {
   "hash": "916dbcbb3f70747c44a77c7bcd40155683ae19c65e1c03b4aa3499c5328201f1"
  },
  "kernelspec": {
   "display_name": "Python 3.8.10 64-bit",
   "language": "python",
   "name": "python3"
  },
  "language_info": {
   "codemirror_mode": {
    "name": "ipython",
    "version": 3
   },
   "file_extension": ".py",
   "mimetype": "text/x-python",
   "name": "python",
   "nbconvert_exporter": "python",
   "pygments_lexer": "ipython3",
   "version": "3.8.10"
  },
  "orig_nbformat": 4
 },
 "nbformat": 4,
 "nbformat_minor": 2
}
