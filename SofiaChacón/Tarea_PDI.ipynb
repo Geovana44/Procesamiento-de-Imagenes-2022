{
  "nbformat": 4,
  "nbformat_minor": 0,
  "metadata": {
    "colab": {
      "name": "Tarea PDI.ipynb",
      "provenance": []
    },
    "kernelspec": {
      "name": "python3",
      "display_name": "Python 3"
    },
    "language_info": {
      "name": "python"
    }
  },
  "cells": [
    {
      "cell_type": "markdown",
      "source": [
        "Sofia Geovana Chacón Chamorro"
      ],
      "metadata": {
        "id": "IXO1b4wKzzK9"
      }
    },
    {
      "cell_type": "markdown",
      "source": [
        "###Área bajo la curva de ROC\n",
        "<h5 align=\"justify\"> \n",
        "<h7 align=\"justify\"><em>La curva ROC nos dice qué tan bueno puede distinguir el modelo entre dos cosas, por ejemplo, si un paciente tiene cáncer o no. Mejores modelos pueden distinguir con precisión entre los dos, mientras que un modelo pobre tendrá dificultades para distinguir entre los dos. \n",
        "\n",
        "Tomando los conceptos aprendidos en la matriz de confusión, todos los valores positivos por encima del umbral serán “verdaderos positivos” y los valores negativos por encima del umbral será “falsos positivos”, ya que se predicen incorrectamente como positivos. \\\\\n",
        "\n",
        "Todos los valores negativos por debajo del umbral serán “verdaderos negativos” y los valores positivos por debajo del umbral serán “falsos negativos”, ya que se pronostican incorrectamente como negativos.  \n",
        "\n",
        "<a href=\"https://ibb.co/YNB47C7\"><img src=\"https://i.ibb.co/RgTGpFp/rocjpg.jpg\" alt=\"rocjpg\" border=\"0\" width=\"400\" height=\"300\"></a>\n",
        "\n",
        "Aquí, tenemos una idea básica de que el modelo predice valores correctos e incorrectos con respecto al conjunto de umbrales. Dado los siguientes conceptos:\n",
        "La sensibilidad o recall: proporción de pacientes que se identificaron correctamente por tener cáncer, es decir verdadero positivo, sobre el número total de pacientes que realmente tienen la enfermedad.\n",
        "\n",
        "\\begin{equation}\n",
        "\\frac{VP}{VP+FN}\n",
        "\\end{equation}\n",
        "\n",
        "\n",
        "Por su parte, especificidad es la proporción de pacientes que se identificaron correctamente por no tener cáncer, verdadero positivo, sobre el número total de pacientes que no tienen la enfermedad.\n",
        "\n",
        "\\begin{equation}\n",
        "\\frac{VN}{VN+FP}\n",
        "\\end{equation}\n",
        "\n",
        "Se conoce como la curva de ROC al graficar que relaciona la sensibilidad y 1-especificidad\n",
        "\n",
        "<a href=\"https://imgbb.com/\"><img src=\"https://i.ibb.co/34WH2LW/ROC.jpg\" alt=\"ROC\" border=\"0\" width=\"400\" height=\"300\"></a>\n",
        "\n",
        "la variable independiente 1-especificidad que es la tasa relativa falsa tambien se la puede calcular a través de la siguiente relación \n",
        "\n",
        "\\begin{equation}\n",
        "\\frac{FP}{VN+FP}\n",
        "\\end{equation}\n",
        "\n",
        "El AUC es el área bajo la curva ROC. Este puntaje nos da una buena idea de qué tan bien funciona el modelo. Cuando dos curvas no se superponen en absoluto, el modelo tiene una medida ideal de separación. Es perfectamente capaz de distinguir entre clase positiva y clase negativa. Cuando dos distribuciones se superponen, introducimos errores. Dependiendo del umbral, podemos minimizarlos o maximizarlos. Cuando AUC es 0.7, significa que hay 70% de probabilidad de que el modelo pueda distinguir entre clase positiva y clase negativa.\n",
        "\n",
        "<a href=\"https://imgbb.com/\"><img src=\"https://i.ibb.co/0Kjjk4W/roc-area.jpg\" alt=\"roc-area\" border=\"0\" width=\"400\" height=\"300\"></a>\n",
        "\n",
        "Cuando el AUC es aproximadamente 0.5, el modelo no tiene capacidad de discriminación para distinguir entre clase positiva y clase negativa. Cuando AUC es aproximadamente 0, el modelo en realidad está correspondiendo las clases. Significa que el modelo predice la clase negativa como una clase positiva y viceversa.\n",
        "\n",
        "###Ventaja\n",
        "1. Es invariable con respecto a la escala, mide qué tan bien se clasifican las predicciones, en lugar de sus valores absolutos.\n",
        "1. Es invariable con respecto al umbral de clasificación, mide la calidad de las predicciones del modelo, sin tener en cuenta qué umbral de clasificación se elige.\n",
        "\n",
        "###Desventaja \n",
        "Cuando no se requira un modelo que no relacione estados variables, hay situaciones en las que se requiere disponer de un test diagnóstico altamente sensible (e.g. tamizaje de enfermedades) o bien altamente específico (e.g. confirmación de enfermedades) para estos casos es mejor analizar bajo otros criterios el modelo.\n",
        "\n",
        "Tomado de: https://aprendeia.com/curvas-roc-y-area-bajo-la-curva-auc-machine-learning/"
      ],
      "metadata": {
        "id": "I3jEQIcfE8S1"
      }
    },
    {
      "cell_type": "markdown",
      "source": [
        "## 2)"
      ],
      "metadata": {
        "id": "7302QGBLzmm3"
      }
    },
    {
      "cell_type": "markdown",
      "source": [
        "###Medidas de desempeño multiclase y multisalida\n",
        "<h5 align=\"justify\"> \n",
        "<h7 align=\"justify\"><em> La accuracy_score función calcula la precisión, ya sea la fracción (predeterminada) o el recuento (normalizar = Falso) de las predicciones correctas.En la clasificación multietiqueta, la función devuelve la precisión del subconjunto. Si todo el conjunto de etiquetas pronosticadas para una muestra coincide estrictamente con el verdadero conjunto de etiquetas, entonces la precisión del subconjunto es 1,0; de lo contrario es 0.0. \n",
        "\n",
        "<a href=\"https://imgbb.com/\"><img src=\"https://i.ibb.co/D8x5Ccf/accu.jpg\" alt=\"accu\" border=\"0\"></a>\n",
        "\n",
        "La top_k_accuracy_score función es una generalización de accuracy_score. La diferencia es que una predicción se considera correcta siempre que la etiqueta verdadera esté asociada con una de las kpuntuaciones predichas más altas. accuracy_scorees el caso especial de k = 1\n",
        "\n",
        "<a href=\"https://imgbb.com/\"><img src=\"https://i.ibb.co/MkmxJy0/topacc.jpg\" alt=\"topacc\" border=\"0\"></a>\n",
        "\n",
        "La balanced_accuracy_score función calcula la precisión equilibrada , lo que evita estimaciones de rendimiento infladas en conjuntos de datos desequilibrados. Es el macropromedio de las puntuaciones de recuerdo por clase o, de manera equivalente, la precisión bruta donde cada muestra se pondera de acuerdo con la prevalencia inversa de su verdadera clase. Por lo tanto, para conjuntos de datos equilibrados, la puntuación es igual a la precisión.En el caso binario, la precisión equilibrada es igual a la media aritmética de la sensibilidad (tasa de verdaderos positivos) y la especificidad (tasa de verdaderos negativos), o el área bajo la curva ROC con predicciones binarias en lugar de puntajes. Si el clasificador funciona igual de bien en cualquier clase, este término se reduce a la precisión convencional (es decir, el número de predicciones correctas dividido por el número total de predicciones). Por el contrario, si la precisión convencional está por encima del azar solo porque el clasificador aprovecha un conjunto de prueba desequilibrado, entonces la precisión equilibrada, según corresponda, se reducirá a 1/nclases\n",
        "\n",
        "<a href=\"https://imgbb.com/\"><img src=\"https://i.ibb.co/v3dYH10/pe.jpg\" alt=\"pe\" border=\"0\"></a>\n",
        "\n",
        "Nota La definición multiclase dicha anteriormene parece la extensión más razonable de la métrica utilizada en la clasificación binaria, aunque no existe un cierto consenso en la literatura\n",
        "\n",
        "Tomado de: https://scikit-learn.org/stable/modules/model_evaluation.html\n",
        "\n",
        "\n",
        "\n"
      ],
      "metadata": {
        "id": "6DP59QfKRpLs"
      }
    },
    {
      "cell_type": "markdown",
      "source": [
        "## 3 y 4"
      ],
      "metadata": {
        "id": "vvuGKKrMz1Dv"
      }
    },
    {
      "cell_type": "markdown",
      "source": [
        "##Creación de clases"
      ],
      "metadata": {
        "id": "hLa_ngbSK6xL"
      }
    },
    {
      "cell_type": "code",
      "execution_count": null,
      "metadata": {
        "id": "N_CaUsJDJNzM"
      },
      "outputs": [],
      "source": [
        "import numpy as np\n",
        "import matplotlib.pyplot as plt\n",
        "\n",
        "class metrics_numpy():\n",
        "\n",
        "  \"\"\"\n",
        "  metrics_numpy(Y_true,Y_pred,Label_positive):\n",
        "\n",
        "\n",
        "  Y_true: datos verdaderos registrados\n",
        "  Y_pred: datos predichos en el entrenamiento\n",
        "  Label_positibe: la etiqueta que se esta precisiendo, la que dará los verdaderos positivos\n",
        "\n",
        "  puede usar los siguientes modulos:\n",
        "\n",
        "  Mat_confusion(): devuelve la matriz de confusión\n",
        "  Precision(): devuelve el valor de la precisión\n",
        "  Exhaustividad(): devuelve el valor de la Exhaustividad o Recall\n",
        "  F1_Score(): devuelve el valor de F1 score\n",
        "  F1_Ponderado(B): devuelve el valor de F1 ponderado, B es el valor de Beta\n",
        "\n",
        "  \n",
        "  \"\"\"\n",
        "\n",
        "  def __init__(self,Y_true,Y_pred,Label_positive):\n",
        "    self.real=Y_true\n",
        "    self.salida=Y_pred\n",
        "    self.lab_Positive=Label_positive\n",
        "\n",
        "  def __count_labels(self):\n",
        "\n",
        "    self.labels=np.unique(self.real)\n",
        "    self.labels_multi=np.unique(self.real)\n",
        "    self.positive=np.where(self.labels==self.lab_Positive)[0]\n",
        "    self.labels_multi[0]=self.labels[self.positive]\n",
        "    self.labels_multi[self.positive]=self.labels[0]\n",
        "    self.n_labels=np.shape(self.labels)[0]\n",
        "\n",
        "    if self.n_labels==2:\n",
        "      self.type_tarea=\"binario\"\n",
        "    elif self.n_labels>2:\n",
        "      self.type_tarea=\"multiclase\"\n",
        "  \n",
        "  def __count_output(self):\n",
        "\n",
        "    self.__count_labels()\n",
        "    self.mat_confu=np.zeros((self.n_labels,self.n_labels))\n",
        "    \n",
        "    for i in range(self.n_labels):\n",
        "      self.i_label=np.where(self.real == self.labels[i])[0]\n",
        "      \n",
        "      for j in range(self.n_labels):\n",
        "        self.count=0\n",
        "        for k in self.i_label:\n",
        "          if self.salida[k] == self.labels[j]:\n",
        "            self.count += 1\n",
        "\n",
        "        self.mat_confu[i,j]=self.count\n",
        "\n",
        "  def __count_output_multi(self):\n",
        "\n",
        "    self.__count_labels()\n",
        "    self.mat_confu=np.zeros((self.n_labels,self.n_labels))\n",
        "    \n",
        "    for i in range(self.n_labels):\n",
        "      self.i_label=np.where(self.real == self.labels_multi[i])[0]\n",
        "      \n",
        "      for j in range(self.n_labels):\n",
        "        self.count=0\n",
        "        for k in self.i_label:\n",
        "          if self.salida[k] == self.labels_multi[j]:\n",
        "            self.count += 1\n",
        "\n",
        "        self.mat_confu[i,j]=self.count\n",
        "\n",
        "  def __mat_for_metrics(self):\n",
        "    \n",
        "    self.__count_output_multi()\n",
        "      \n",
        "    self.VP=self.mat_confu[0,0]\n",
        "    self.FN=sum(self.mat_confu[0,1:])\n",
        "    self.FP=sum(self.mat_confu[1:,0])\n",
        "    self.VN=0\n",
        "    self.rows=np.arange(1,self.n_labels)\n",
        "    for i in self.rows:\n",
        "      self.vn=sum(self.mat_confu[i,1:])\n",
        "      self.VN += self.vn\n",
        "    \n",
        "    self.mat=np.array([[self.VP,self.FP],[self.FN,self.VN]])\n",
        "\n",
        "  def Mat_confusion(self):\n",
        "\n",
        "    self.__count_output()\n",
        "    self.mat_plot=np.copy(self.mat_confu)\n",
        "\n",
        "    return self.mat_plot\n",
        "\n",
        "  def Precision(self):\n",
        "    self.__mat_for_metrics() \n",
        "    self.precision=self.VP/(self.VP+self.FP)\n",
        "    return self.precision\n",
        "\n",
        "  def Exhaustividad(self):\n",
        "    self.__mat_for_metrics() \n",
        "    self.exhaustividad=self.VP/(self.VP + self.FN)\n",
        "    return self.exhaustividad\n",
        "  \n",
        "  def F1_Score(self):\n",
        "    self.f1_score=2*((self.Precision()*self.Exhaustividad())/(self.Precision() + self.Exhaustividad()))\n",
        "    return self.f1_score\n",
        "  \n",
        "  def F1_Ponderado(self,B):\n",
        "    self.f1_ponderado=(1+B**2)*((self.Precision()*self.Exhaustividad())/(((B**2)*self.Precision()) + self.Exhaustividad()))\n",
        "    return self.f1_ponderado\n",
        "  def Plot_mat(self):\n",
        "    self.Mat_confusion()\n",
        "    __fig,__ax =plt.subplots(figsize=(10,5))\n",
        "    __ax.matshow(self.mat_plot)\n",
        "    plt.title(\"Matriz de Confusión\", fontsize=20)\n",
        "    for (i,j),z in np.ndenumerate(self.mat_plot):\n",
        "      __ax.text(j,i,\"{}\".format(z),ha=\"center\",va=\"center\")\n",
        "    plt.show()"
      ]
    },
    {
      "cell_type": "code",
      "source": [
        "import tensorflow as tf\n",
        "\n",
        "class metrics_keras():\n",
        "\n",
        "  def __init__(self,Y_true,Y_pred):\n",
        "    self.real=Y_true\n",
        "    self.salida=Y_pred\n",
        "  \n",
        "  def Precision(self):\n",
        "    self.m = tf.keras.metrics.Precision()\n",
        "    self.m.update_state(self.real, self.salida)\n",
        "    self.precision=self.m.result().numpy()\n",
        "    return self.precision\n",
        "\n",
        "  def Exhaustividad(self):\n",
        "    self.m = tf.keras.metrics.Recall()\n",
        "    self.m.update_state(self.real, self.salida)\n",
        "    self.exhaustividad=self.m.result().numpy()\n",
        "    return self.exhaustividad\n",
        "\n",
        "  def F1_Score(self):\n",
        "    self.f1_score=2*((self.Precision()*self.Exhaustividad())/(self.Precision() + self.Exhaustividad()))\n",
        "    return self.f1_score\n",
        "  \n",
        "  def F1_Ponderado(self,B):\n",
        "    self.f1_ponderado=(1+B**2)*((self.Precision()*self.Exhaustividad())/(((B**2)*self.Precision()) + self.Exhaustividad()))\n",
        "    return self.f1_ponderado\n",
        "\n",
        "  def Mat_confusion(self):\n",
        "    self.mat=tf.math.confusion_matrix(labels=self.real, predictions=self.salida).numpy()\n",
        "    return self.mat\n",
        "\n",
        "  def Plot_mat(self):\n",
        "    self.Mat_confusion()\n",
        "    __fig,__ax =plt.subplots(figsize=(10,5))\n",
        "    __ax.matshow(self.mat)\n",
        "    plt.title(\"Matriz de Confusión\", fontsize=20)\n",
        "    for (i,j),z in np.ndenumerate(self.mat):\n",
        "      __ax.text(j,i,\"{}\".format(z),ha=\"center\",va=\"center\")\n",
        "    plt.show()"
      ],
      "metadata": {
        "id": "DxBNn3pVKtOr"
      },
      "execution_count": null,
      "outputs": []
    },
    {
      "cell_type": "markdown",
      "source": [
        "##Binario"
      ],
      "metadata": {
        "id": "oKT41NkbKy6h"
      }
    },
    {
      "cell_type": "code",
      "source": [
        "#con la clase creada\n",
        "\n",
        "y_pred = [0, 1, 0, 0, 0,0]\n",
        "y_true = [0, 1, 0, 1, 1,1]\n",
        "\n",
        "c=metrics_numpy(y_true,y_pred,1)\n",
        "p=c.Precision()\n",
        "e=c.Exhaustividad()\n",
        "f1s=c.F1_Score()\n",
        "f1p=c.F1_Ponderado(0.8)\n",
        "m=c.Mat_confusion()\n",
        "\n",
        "print(\"pPrecisión: \", p)\n",
        "print(\"Exhaustividad: \", e)\n",
        "print(\"F1 Score: \", f1s)\n",
        "print(\"F1 ponderado: \", f1p)\n",
        "print(\"Matriz de confución: \", m)\n",
        "\n",
        "c.Plot_mat()"
      ],
      "metadata": {
        "colab": {
          "base_uri": "https://localhost:8080/",
          "height": 445
        },
        "id": "0FiwWMhYzA7R",
        "outputId": "ff573268-266c-41c4-d287-d6275fc99019"
      },
      "execution_count": null,
      "outputs": [
        {
          "output_type": "stream",
          "name": "stdout",
          "text": [
            "pPrecisión:  1.0\n",
            "Exhaustividad:  0.25\n",
            "F1 Score:  0.4\n",
            "F1 ponderado:  0.46067415730337075\n",
            "Matriz de confución:  [[2. 0.]\n",
            " [3. 1.]]\n"
          ]
        },
        {
          "output_type": "display_data",
          "data": {
            "text/plain": [
              "<Figure size 720x360 with 1 Axes>"
            ],
            "image/png": "[encoded data removed]"
          },
          "metadata": {
            "needs_background": "light"
          }
        }
      ]
    },
    {
      "cell_type": "code",
      "source": [
        "#con sklearn\n",
        "\n",
        "from sklearn import metrics\n",
        "y_pred = [0, 1, 0, 0, 0,0]\n",
        "y_true = [0, 1, 0, 1, 1,1]\n",
        "\n",
        "p=metrics.precision_score(y_true, y_pred)\n",
        "e=metrics.recall_score(y_true, y_pred)\n",
        "f1s=metrics.f1_score(y_true, y_pred)\n",
        "f1p=metrics.fbeta_score(y_true, y_pred, beta=0.8)\n",
        "m=metrics.confusion_matrix(y_true, y_pred)\n",
        "\n",
        "print(\"Precisión: \", p)\n",
        "print(\"Exhaustividad: \", e)\n",
        "print(\"F1 Score: \", f1s)\n",
        "print(\"F1 ponderado: \", f1p)\n",
        "print(\"Matriz de confución: \", m)\n",
        "\n",
        "import matplotlib.pyplot as plt\n",
        "\n",
        "fig,ax =plt.subplots(figsize=(10,5))\n",
        "ax.matshow(m)\n",
        "plt.title(\"Matriz de Confusión\", fontsize=20)\n",
        "for (i,j),z in np.ndenumerate(m):\n",
        "  ax.text(j,i,\"{}\".format(z),ha=\"center\",va=\"center\")"
      ],
      "metadata": {
        "colab": {
          "base_uri": "https://localhost:8080/",
          "height": 445
        },
        "id": "G9-IyxXF_i8E",
        "outputId": "2926a121-204b-4d9a-86ec-f7973876ebaa"
      },
      "execution_count": null,
      "outputs": [
        {
          "output_type": "stream",
          "name": "stdout",
          "text": [
            "Precisión:  1.0\n",
            "Exhaustividad:  0.25\n",
            "F1 Score:  0.4\n",
            "F1 ponderado:  0.46067415730337075\n",
            "Matriz de confución:  [[2 0]\n",
            " [3 1]]\n"
          ]
        },
        {
          "output_type": "display_data",
          "data": {
            "text/plain": [
              "<Figure size 720x360 with 1 Axes>"
            ],
            "image/png": "[encoded data removed]"
          },
          "metadata": {
            "needs_background": "light"
          }
        }
      ]
    },
    {
      "cell_type": "code",
      "source": [
        "#con clase keras\n",
        "\n",
        "y_pred = [0, 1, 0, 0, 0,0]\n",
        "y_true = [0, 1, 0, 1, 1,1]\n",
        "\n",
        "c=metrics_keras(y_true,y_pred)\n",
        "p=c.Precision()\n",
        "e=c.Exhaustividad()\n",
        "f1s=c.F1_Score()\n",
        "f1p=c.F1_Ponderado(0.8)\n",
        "m=c.Mat_confusion()\n",
        "\n",
        "print(\"Precisión: \", p)\n",
        "print(\"Exhaustividad: \", e)\n",
        "print(\"F1 Score: \", f1s)\n",
        "print(\"F1 ponderado: \", f1p)\n",
        "print(\"Matriz de confución: \", m)\n",
        "\n",
        "c.Plot_mat()"
      ],
      "metadata": {
        "colab": {
          "base_uri": "https://localhost:8080/",
          "height": 445
        },
        "id": "Z8gb98cjKqiV",
        "outputId": "b2c02c7d-2fd1-47d3-84b9-cf976c7faa83"
      },
      "execution_count": null,
      "outputs": [
        {
          "output_type": "stream",
          "name": "stdout",
          "text": [
            "pPrecisión:  1.0\n",
            "Exhaustividad:  0.25\n",
            "F1 Score:  0.4000000059604645\n",
            "F1 ponderado:  0.46067415730337075\n",
            "Matriz de confución:  [[2 0]\n",
            " [3 1]]\n"
          ]
        },
        {
          "output_type": "display_data",
          "data": {
            "text/plain": [
              "<Figure size 720x360 with 1 Axes>"
            ],
            "image/png": "[encoded data removed]"
          },
          "metadata": {
            "needs_background": "light"
          }
        }
      ]
    },
    {
      "cell_type": "code",
      "source": [
        "import numpy as np\n",
        "\n",
        "y_true = [0, 1, 2, 0, 1, 2]\n",
        "y_pred = [0, 2, 1, 0, 0, 1]\n",
        "\n",
        "c=metrics_numpy(y_true,y_pred,0)\n",
        "p=c.Precision()\n",
        "e=c.Exhaustividad()\n",
        "f1s=c.F1_Score()\n",
        "f1p=c.F1_Ponderado(0.5)\n",
        "m=c.Mat_confusion()\n",
        "\n",
        "print(\"Precisión: \", p)\n",
        "print(\"Exhaustividad: \", e)\n",
        "print(\"F1 Score: \", f1s)\n",
        "print(\"F1 ponderado: \", f1p)\n",
        "print(\"Matriz de confución: \", m)"
      ],
      "metadata": {
        "colab": {
          "base_uri": "https://localhost:8080/"
        },
        "id": "0gM-UXQt2yA3",
        "outputId": "68c939b9-887f-4403-9146-c82877c63c77"
      },
      "execution_count": null,
      "outputs": [
        {
          "output_type": "stream",
          "name": "stdout",
          "text": [
            "Precisión:  0.6666666666666666\n",
            "Exhaustividad:  1.0\n",
            "F1 Score:  0.8\n",
            "F1 ponderado:  0.7142857142857142\n",
            "Matriz de confución:  [[2. 0. 0.]\n",
            " [1. 0. 1.]\n",
            " [0. 2. 0.]]\n"
          ]
        }
      ]
    },
    {
      "cell_type": "markdown",
      "source": [
        "##Multiclase"
      ],
      "metadata": {
        "id": "opY8BVYeMBxr"
      }
    },
    {
      "cell_type": "code",
      "source": [
        "#con la clse creada con numpy\n",
        "\n",
        "y_true = [0, 1, 2, 0, 1, 2]\n",
        "y_pred = [0, 2, 1, 0, 0, 1]\n",
        "\n",
        "c=metrics_numpy(y_true,y_pred,0)\n",
        "p=c.Precision()\n",
        "e=c.Exhaustividad()\n",
        "f1s=c.F1_Score()\n",
        "f1p=c.F1_Ponderado(0.8)\n",
        "m=c.Mat_confusion()\n",
        "\n",
        "print(\"Precisión: \", p)\n",
        "print(\"Exhaustividad: \", e)\n",
        "print(\"F1 Score: \", f1s)\n",
        "print(\"F1 ponderado: \", f1p)\n",
        "print(\"Matriz de confución: \", m)\n",
        "\n",
        "c.Plot_mat()"
      ],
      "metadata": {
        "colab": {
          "base_uri": "https://localhost:8080/",
          "height": 462
        },
        "id": "W0hcVDY4MN6R",
        "outputId": "80b3e956-b8a0-4f2d-f4d5-649d0c77fffe"
      },
      "execution_count": null,
      "outputs": [
        {
          "output_type": "stream",
          "name": "stdout",
          "text": [
            "pPrecisión:  0.6666666666666666\n",
            "Exhaustividad:  1.0\n",
            "F1 Score:  0.8\n",
            "F1 ponderado:  0.7663551401869159\n",
            "Matriz de confución:  [[2. 0. 0.]\n",
            " [1. 0. 1.]\n",
            " [0. 2. 0.]]\n"
          ]
        },
        {
          "output_type": "display_data",
          "data": {
            "text/plain": [
              "<Figure size 720x360 with 1 Axes>"
            ],
            "image/png": "[encoded data removed]"
          },
          "metadata": {
            "needs_background": "light"
          }
        }
      ]
    },
    {
      "cell_type": "code",
      "source": [
        "#usando sklearn\n",
        "\n",
        "from sklearn import metrics\n",
        "y_true = [0, 1, 2, 0, 1, 2]\n",
        "y_pred = [0, 2, 1, 0, 0, 1]\n",
        "\n",
        "p=metrics.precision_score(y_true, y_pred,average=None)\n",
        "e=metrics.recall_score(y_true, y_pred,average=None)\n",
        "f1s=metrics.f1_score(y_true, y_pred, average=None)\n",
        "f1p=metrics.fbeta_score(y_true, y_pred, beta=0.5, average=None)\n",
        "m=metrics.confusion_matrix(y_true, y_pred)\n",
        "\n",
        "print(\"Precisión: \", p[0])\n",
        "print(\"Exhaustividad: \", e[0])\n",
        "print(\"F1 Score: \", f1s[0])\n",
        "print(\"F1 ponderado: \", f1p[0])\n",
        "print(\"Matriz de confución: \", m[0])\n",
        "\n",
        "import matplotlib.pyplot as plt\n",
        "\n",
        "fig,ax =plt.subplots(figsize=(10,5))\n",
        "ax.matshow(m)\n",
        "plt.title(\"Matriz de Confusión\", fontsize=20)\n",
        "for (i,j),z in np.ndenumerate(m):\n",
        "  ax.text(j,i,\"{}\".format(z),ha=\"center\",va=\"center\")"
      ],
      "metadata": {
        "colab": {
          "base_uri": "https://localhost:8080/",
          "height": 428
        },
        "id": "4lh3zZy80RBT",
        "outputId": "87e02686-b686-424b-f396-be8fdb5163a6"
      },
      "execution_count": null,
      "outputs": [
        {
          "output_type": "stream",
          "name": "stdout",
          "text": [
            "Precisión:  0.6666666666666666\n",
            "Exhaustividad:  1.0\n",
            "F1 Score:  0.8\n",
            "F1 ponderado:  0.7142857142857142\n",
            "Matriz de confución:  [2 0 0]\n"
          ]
        },
        {
          "output_type": "display_data",
          "data": {
            "text/plain": [
              "<Figure size 720x360 with 1 Axes>"
            ],
            "image/png": "[encoded data removed]"
          },
          "metadata": {
            "needs_background": "light"
          }
        }
      ]
    }
  ]
}