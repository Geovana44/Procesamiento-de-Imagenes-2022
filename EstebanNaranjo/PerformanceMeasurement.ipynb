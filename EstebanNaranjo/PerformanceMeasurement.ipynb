{
  "cells": [
    {
      "cell_type": "markdown",
      "metadata": {
        "id": "-xqRG-wY0T3J"
      },
      "source": [
        "### metricas de desempeño de huber\n",
        "\n",
        "#### Huber Loss\n",
        "\n",
        "Es un modelo de regresión lineal que es mas robusto a valores atipicos\n",
        "\n",
        "$$\n",
        "\\zeta \\left( y - \\hat{y} \\right)^{2}  =\n",
        "\n",
        "\\begin{cases}\n",
        "\n",
        "& \\left( y - \\hat{y} \\right)^{2} ... \\left| y - \\hat{y}\\right| \\le \\alpha \n",
        "\\\\\n",
        "& \\left| y - \\hat{y} \\right| ... \\left| y - \\hat{y} \\right| \\gt  \\alpha \n",
        "\\end{cases}\n",
        "$$\n",
        "\n",
        "donde y es la variable objetivo, ŷ son las predicciones correspondientes y α ∈ ℝ⁺ es un hiperparámetro. Es tentador ver esta pérdida como la función de probabilidad logarítmica de una distribución de error de cola pesada subyacente. De hecho, para errores absolutos menores que α , la distribución correspondiente se parece a la distribución normal, fuera de esta región coincide con la distribución de Laplace de colas más pesadas. Esta es precisamente la razón por la que esta pérdida es robusta frente a valores atípicos.\n",
        "\n",
        "Eso es todo lo que necesitamos saber por ahora sobre la pérdida de Huber. Por lo tanto, saltemos directamente a los GLM, que se entienden mejor recordando primero los supuestos de la regresión lineal. En la regresión lineal, a menudo se supone que el término de error en la relación lineal entre la variable dependiente Y y algún vector de características X se distribuye normalmente con media cero y varianza constante σ², es decir, Y | X ~ X^ ⊤ β + ε siendo ε ∈ 𝓝(0,σ²) y β un conjunto de parámetros variacionales. Uno está interesado en encontrar la mejor estimación de β^ que minimice una función de costo cuadrática (correspondiente al logaritmo de verosimilitud de la distribución de ε). La estimación ŷ para un determinadoX es entonces simplemente ŷ ( X )=E[ Y | X ]= X^ ⊤ β ^ sombrero . Tenga en cuenta que (en una interpretación de máxima verosimilitud) la regresión de Huber reemplaza la distribución normal con una distribución de colas más pesadas pero aún asume una varianza constante.\n",
        "\n",
        "\n",
        "Referencia : https://towardsdatascience.com/generalized-huber-regression-505afaff24c"
      ]
    },
    {
      "cell_type": "markdown",
      "metadata": {
        "id": "Z30jLf-20T3b"
      },
      "source": [
        "### Area bajo la curva de ROC\n",
        "\n",
        "El análisis de la curva ROC, o simplemente análisis ROC, proporciona herramientas para seleccionar los modelos posiblemente óptimos y descartar modelos subóptimos independientemente de (y antes de especificar) el coste de la distribución de las dos clases sobre las que se decide. La curva ROC es también independiente de la distribución de las clases en la población (en diagnóstico, la prevalencia de una enfermedad en la población). El análisis ROC se relaciona de forma directa y natural con el análisis de coste/beneficio en toma de decisiones diagnósticas.\n",
        "\n",
        "las curvas ROC son útiles para:\n",
        "\n",
        "$\\bullet$ Conocer el rendimiento global de una prueba. Area bajo la curva.\n",
        "\n",
        "$\\bullet$ Comparar dos pruebas o dos puntos de corte. Comparación de dos curvas o de dos puntos sobre una curva."
      ]
    },
    {
      "cell_type": "markdown",
      "metadata": {
        "id": "uL9bswzy0T3e"
      },
      "source": [
        "### De binario a multiclase y multietiqueta\n",
        "\n",
        "Algunas métricas se definen esencialmente para tareas de clasificación binaria. En estos casos, por defecto solo se evalúa la etiqueta positiva, asumiendo por defecto que la clase positiva está etiquetada 1\n",
        "\n",
        "Al extender una métrica binaria a problemas multiclase o multietiqueta, los datos se tratan como una colección de problemas binarios, uno para cada clase. Luego, hay varias formas de promediar los cálculos de métricas binarias en el conjunto de clases, cada una de las cuales puede ser útil en algún escenario. Donde esté disponible, debe seleccionar entre estos usando el averageparámetro.\n",
        "\n",
        "Referencia: https://scikit-learn.org/stable/modules/model_evaluation.html"
      ]
    },
    {
      "cell_type": "code",
      "execution_count": null,
      "metadata": {
        "id": "91JPQ0w40T3h"
      },
      "outputs": [],
      "source": [
        "import sklearn.metrics as sklm\n",
        "import sklearn\n",
        "import tensorflow as tf\n",
        "import numpy as np\n",
        "import matplotlib as plt\n",
        "from sklearn.svm import SVC\n",
        "\n",
        "class metrics():\n",
        "    def __init__(self,y_true,y_pred):\n",
        "        self.y_true=np.array(y_true)\n",
        "        self.y_pred=np.array(y_pred)\n",
        "        self.y_true_int=self.y_true.astype(int)\n",
        "        self.y_pred_int=self.y_pred.astype(int)\n",
        "\n",
        "    def error_cuadratico_medio(self):\n",
        "        return sklm.mean_squared_error(self.y_true,self.y_pred) \n",
        "\n",
        "    def error_absoluto_medio(self):\n",
        "        return sklm.mean_absolute_error(self.y_true,self.y_pred) \n",
        "\n",
        "    def exactitud(self):\n",
        "        return sklm.accuracy_score(self.y_true_int,self.y_pred_int)    \n",
        "\n",
        "    def matriz_de_confusion(self):\n",
        "        return sklm.confusion_matrix(self.y_true_int,self.y_pred_int)  \n",
        "    \n",
        "    def presicion(self):\n",
        "        return sklm.precision_score(self.y_true_int,self.y_pred_int, average=None)\n",
        "\n",
        "    def exhaustividad(self):\n",
        "        return sklm.recall_score(self.y_true_int, self.y_pred_int)  \n",
        "\n",
        "    def f1_score(self):\n",
        "        return sklm.f1_score(self.y_true_int, self.y_pred_int, average=None)   \n",
        "\n",
        "    def f1_ponderado(self):\n",
        "        return sklm.precision_recall_fscore_support(self.y_true_int,self.y_pred_int, beta=1)     \n",
        "\n",
        "    def huber(self):       \n",
        "        h=tf.keras.losses.Huber()\n",
        "        return h(self.y_true_int,self.y_pred_int).numpy()\n",
        "\n",
        "    def ROC(self):\n",
        "        return sklm.roc_curve(self.y_true_int,self.y_pred_int, pos_label=2)\n",
        "\n",
        "    def plot_matrizC(self):\n",
        "        return sklm.ConfusionMatrixDisplay.from_predictions(self.y_true_int,self.y_pred_int)\n",
        "\n",
        "    def plot_ROC(self):\n",
        "        return sklearn.metrics.RocCurveDisplay.from_predictions(self.y_true_int, self.y_pred_int, pos_label = 2)          \n",
        "\n",
        "\n",
        "\n",
        "        \n",
        "\n"
      ]
    },
    {
      "cell_type": "code",
      "execution_count": null,
      "metadata": {
        "colab": {
          "base_uri": "https://localhost:8080/"
        },
        "id": "MRRw4mEb0T3o",
        "outputId": "c35013d9-5582-409c-9f8e-896c662faa93"
      },
      "outputs": [
        {
          "data": {
            "text/plain": [
              "0.375"
            ]
          },
          "execution_count": 2,
          "metadata": {},
          "output_type": "execute_result"
        }
      ],
      "source": [
        "y_true = [3, -0.5, 2, 7]\n",
        "y_pred = [2.5, 0.0, 2, 8]\n",
        "test= metrics(y_true,y_pred)\n",
        "test.error_cuadratico_medio()"
      ]
    },
    {
      "cell_type": "code",
      "execution_count": null,
      "metadata": {
        "colab": {
          "base_uri": "https://localhost:8080/"
        },
        "id": "GSIWVDI-0T3s",
        "outputId": "af87bc89-d333-4067-8233-7dbef707c524"
      },
      "outputs": [
        {
          "data": {
            "text/plain": [
              "0.5"
            ]
          },
          "execution_count": 3,
          "metadata": {},
          "output_type": "execute_result"
        }
      ],
      "source": [
        "test.error_absoluto_medio()"
      ]
    },
    {
      "cell_type": "code",
      "execution_count": null,
      "metadata": {
        "colab": {
          "base_uri": "https://localhost:8080/"
        },
        "id": "IzQCNiFj0T3t",
        "outputId": "f8ed960a-65ad-4222-b15d-f7dd14bf1aeb"
      },
      "outputs": [
        {
          "data": {
            "text/plain": [
              "0.5"
            ]
          },
          "execution_count": 4,
          "metadata": {},
          "output_type": "execute_result"
        }
      ],
      "source": [
        "test.exactitud()"
      ]
    },
    {
      "cell_type": "code",
      "execution_count": null,
      "metadata": {
        "colab": {
          "base_uri": "https://localhost:8080/"
        },
        "id": "1GTZrbAC0T3w",
        "outputId": "d8f8162f-d7ce-438a-dbca-6fdca0c054b0"
      },
      "outputs": [
        {
          "data": {
            "text/plain": [
              "array([[1, 0, 0, 0, 0],\n",
              "       [0, 1, 0, 0, 0],\n",
              "       [0, 1, 0, 0, 0],\n",
              "       [0, 0, 0, 0, 1],\n",
              "       [0, 0, 0, 0, 0]])"
            ]
          },
          "execution_count": 5,
          "metadata": {},
          "output_type": "execute_result"
        }
      ],
      "source": [
        "test.matriz_de_confusion()"
      ]
    },
    {
      "cell_type": "code",
      "execution_count": null,
      "metadata": {
        "colab": {
          "base_uri": "https://localhost:8080/"
        },
        "id": "1esHd-MC0T3x",
        "outputId": "4ffade1a-428c-4dd6-8dc3-0e8fb2480f2c"
      },
      "outputs": [
        {
          "name": "stderr",
          "output_type": "stream",
          "text": [
            "/usr/local/lib/python3.7/dist-packages/sklearn/metrics/_classification.py:1318: UndefinedMetricWarning: Precision is ill-defined and being set to 0.0 in labels with no predicted samples. Use `zero_division` parameter to control this behavior.\n",
            "  _warn_prf(average, modifier, msg_start, len(result))\n"
          ]
        },
        {
          "data": {
            "text/plain": [
              "array([1. , 0.5, 0. , 0. , 0. ])"
            ]
          },
          "execution_count": 6,
          "metadata": {},
          "output_type": "execute_result"
        }
      ],
      "source": [
        "test.presicion()"
      ]
    },
    {
      "cell_type": "code",
      "execution_count": null,
      "metadata": {
        "colab": {
          "base_uri": "https://localhost:8080/"
        },
        "id": "Nw37ITge0T3z",
        "outputId": "f52285d6-df02-4006-e0b4-ade3f09bced0"
      },
      "outputs": [
        {
          "data": {
            "text/plain": [
              "0.5"
            ]
          },
          "execution_count": 7,
          "metadata": {},
          "output_type": "execute_result"
        }
      ],
      "source": [
        "test.exactitud()"
      ]
    },
    {
      "cell_type": "code",
      "execution_count": null,
      "metadata": {
        "colab": {
          "base_uri": "https://localhost:8080/"
        },
        "id": "G5_3lWX60T31",
        "outputId": "090e7f2a-fcfa-4ff3-f4b7-39cd3729ae03"
      },
      "outputs": [
        {
          "data": {
            "text/plain": [
              "array([1.        , 0.66666667, 0.        , 0.        , 0.        ])"
            ]
          },
          "execution_count": 8,
          "metadata": {},
          "output_type": "execute_result"
        }
      ],
      "source": [
        "test.f1_score()"
      ]
    },
    {
      "cell_type": "code",
      "execution_count": null,
      "metadata": {
        "colab": {
          "base_uri": "https://localhost:8080/"
        },
        "id": "wy14yLYD0T32",
        "outputId": "af3bc871-46fa-4e0c-f034-b69d2572f383"
      },
      "outputs": [
        {
          "name": "stderr",
          "output_type": "stream",
          "text": [
            "/usr/local/lib/python3.7/dist-packages/sklearn/metrics/_classification.py:1318: UndefinedMetricWarning: Precision and F-score are ill-defined and being set to 0.0 in labels with no predicted samples. Use `zero_division` parameter to control this behavior.\n",
            "  _warn_prf(average, modifier, msg_start, len(result))\n",
            "/usr/local/lib/python3.7/dist-packages/sklearn/metrics/_classification.py:1318: UndefinedMetricWarning: Recall and F-score are ill-defined and being set to 0.0 in labels with no true samples. Use `zero_division` parameter to control this behavior.\n",
            "  _warn_prf(average, modifier, msg_start, len(result))\n"
          ]
        },
        {
          "data": {
            "text/plain": [
              "(array([1. , 0.5, 0. , 0. , 0. ]),\n",
              " array([1., 1., 0., 0., 0.]),\n",
              " array([1.        , 0.66666667, 0.        , 0.        , 0.        ]),\n",
              " array([1, 1, 1, 1, 0]))"
            ]
          },
          "execution_count": 9,
          "metadata": {},
          "output_type": "execute_result"
        }
      ],
      "source": [
        "test.f1_ponderado()"
      ]
    },
    {
      "cell_type": "code",
      "execution_count": null,
      "metadata": {
        "colab": {
          "base_uri": "https://localhost:8080/"
        },
        "id": "L0gFeASG0T33",
        "outputId": "db6ecd8d-eb45-4000-e56a-2cc9c41b8e3a"
      },
      "outputs": [
        {
          "data": {
            "text/plain": [
              "0.25"
            ]
          },
          "execution_count": 10,
          "metadata": {},
          "output_type": "execute_result"
        }
      ],
      "source": [
        "test.huber()"
      ]
    },
    {
      "cell_type": "code",
      "execution_count": null,
      "metadata": {
        "colab": {
          "base_uri": "https://localhost:8080/"
        },
        "id": "zmcMyIh80T35",
        "outputId": "29b8a81f-3ae0-41b7-9be3-aec654951797"
      },
      "outputs": [
        {
          "data": {
            "text/plain": [
              "(array([0.        , 0.33333333, 0.66666667, 1.        ]),\n",
              " array([0., 0., 1., 1.]),\n",
              " array([9, 8, 2, 0]))"
            ]
          },
          "execution_count": 11,
          "metadata": {},
          "output_type": "execute_result"
        }
      ],
      "source": [
        "test.ROC()"
      ]
    },
    {
      "cell_type": "code",
      "execution_count": null,
      "metadata": {
        "colab": {
          "base_uri": "https://localhost:8080/"
        },
        "id": "-6TuBw-r0T36",
        "outputId": "65100c6e-a1bd-4945-d726-4f3875b7d090"
      },
      "outputs": [
        {
          "data": {
            "text/plain": [
              "SVC(random_state=0)"
            ]
          },
          "execution_count": 12,
          "metadata": {},
          "output_type": "execute_result"
        }
      ],
      "source": [
        "clf = SVC(random_state=0)\n",
        "SVC(random_state=0)"
      ]
    },
    {
      "cell_type": "code",
      "execution_count": null,
      "metadata": {
        "colab": {
          "base_uri": "https://localhost:8080/",
          "height": 566
        },
        "id": "7Ix6vIZ_0T37",
        "outputId": "5332eee1-fc39-467d-dd66-0ca0074ecfa7"
      },
      "outputs": [
        {
          "data": {
            "text/plain": [
              "<sklearn.metrics._plot.confusion_matrix.ConfusionMatrixDisplay at 0x7fda2e7e45d0>"
            ]
          },
          "execution_count": 13,
          "metadata": {},
          "output_type": "execute_result"
        },
        {
          "data": {
            "image/png": "[encoded data removed]",
            "text/plain": [
              "<Figure size 432x288 with 2 Axes>"
            ]
          },
          "metadata": {
            "needs_background": "light"
          },
          "output_type": "display_data"
        },
        {
          "data": {
            "image/png": "[encoded data removed]",
            "text/plain": [
              "<Figure size 432x288 with 2 Axes>"
            ]
          },
          "metadata": {
            "needs_background": "light"
          },
          "output_type": "display_data"
        }
      ],
      "source": [
        "c=test.plot_matrizC()\n",
        "c.plot()\n",
        "\n"
      ]
    },
    {
      "cell_type": "code",
      "execution_count": null,
      "metadata": {
        "colab": {
          "base_uri": "https://localhost:8080/",
          "height": 296
        },
        "id": "-YytQHkJ0T38",
        "outputId": "8cde57ae-0660-4fa0-ba80-b36f44e1577d"
      },
      "outputs": [
        {
          "data": {
            "text/plain": [
              "<sklearn.metrics._plot.roc_curve.RocCurveDisplay at 0x7fda2e7e4bd0>"
            ]
          },
          "execution_count": 14,
          "metadata": {},
          "output_type": "execute_result"
        },
        {
          "data": {
            "image/png": "[encoded data removed]",
            "text/plain": [
              "<Figure size 432x288 with 1 Axes>"
            ]
          },
          "metadata": {
            "needs_background": "light"
          },
          "output_type": "display_data"
        }
      ],
      "source": [
        "test.plot_ROC()"
      ]
    },
    {
      "cell_type": "code",
      "execution_count": null,
      "metadata": {
        "id": "NOPWjBon0T39"
      },
      "outputs": [],
      "source": []
    }
  ],
  "metadata": {
    "colab": {
      "collapsed_sections": [],
      "name": "PerformanceMeasurement.ipynb",
      "provenance": []
    },
    "interpreter": {
      "hash": "045b00a408813a954cc051d7dc7a616973c80bc052b34172f4958914cfeed245"
    },
    "kernelspec": {
      "display_name": "Python 3.9.7 ('base')",
      "language": "python",
      "name": "python3"
    },
    "language_info": {
      "codemirror_mode": {
        "name": "ipython",
        "version": 3
      },
      "file_extension": ".py",
      "mimetype": "text/x-python",
      "name": "python",
      "nbconvert_exporter": "python",
      "pygments_lexer": "ipython3",
      "version": "3.9.7"
    },
    "orig_nbformat": 4
  },
  "nbformat": 4,
  "nbformat_minor": 0
}
